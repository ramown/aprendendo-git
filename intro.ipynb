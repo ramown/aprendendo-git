{
  "nbformat": 4,
  "nbformat_minor": 0,
  "metadata": {
    "colab": {
      "name": "intro.ipynb",
      "provenance": [],
      "authorship_tag": "ABX9TyPGrU2GVvmOmzbu6CERdD6k",
      "include_colab_link": true
    },
    "kernelspec": {
      "name": "python3",
      "display_name": "Python 3"
    }
  },
  "cells": [
    {
      "cell_type": "markdown",
      "metadata": {
        "id": "view-in-github",
        "colab_type": "text"
      },
      "source": [
        "<a href=\"https://colab.research.google.com/github/ramown/aprendendo-git/blob/master/intro.ipynb\" target=\"_parent\"><img src=\"https://colab.research.google.com/assets/colab-badge.svg\" alt=\"Open In Colab\"/></a>"
      ]
    },
    {
      "cell_type": "markdown",
      "metadata": {
        "id": "1mBnzVrTbjXy",
        "colab_type": "text"
      },
      "source": [
        "### Salles"
      ]
    },
    {
      "cell_type": "code",
      "metadata": {
        "id": "0YydeMv7bmQo",
        "colab_type": "code",
        "colab": {
          "base_uri": "https://localhost:8080/",
          "height": 34
        },
        "outputId": "6226d8fe-c2cb-45d7-b1e6-67b008216dae"
      },
      "source": [
        "revenue = 10000\n",
        "tax =.19\n",
        "income = revenue * tax\n",
        "income"
      ],
      "execution_count": 1,
      "outputs": [
        {
          "output_type": "execute_result",
          "data": {
            "text/plain": [
              "1900.0"
            ]
          },
          "metadata": {
            "tags": []
          },
          "execution_count": 1
        }
      ]
    },
    {
      "cell_type": "code",
      "metadata": {
        "id": "wUsgDd9FbuOz",
        "colab_type": "code",
        "colab": {
          "base_uri": "https://localhost:8080/",
          "height": 34
        },
        "outputId": "66b3b4a7-3d75-4f2c-db3c-43b4032d4fcd"
      },
      "source": [
        "print(income)"
      ],
      "execution_count": 2,
      "outputs": [
        {
          "output_type": "stream",
          "text": [
            "1900.0\n"
          ],
          "name": "stdout"
        }
      ]
    },
    {
      "cell_type": "code",
      "metadata": {
        "id": "SsyigJgObyRm",
        "colab_type": "code",
        "colab": {}
      },
      "source": [
        ""
      ],
      "execution_count": 0,
      "outputs": []
    },
    {
      "cell_type": "markdown",
      "metadata": {
        "id": "ubZ0_3Q7b2Sj",
        "colab_type": "text"
      },
      "source": [
        "### Summary\n",
        "\n"
      ]
    },
    {
      "cell_type": "code",
      "metadata": {
        "id": "OzDUIX3pb8eA",
        "colab_type": "code",
        "colab": {}
      },
      "source": [
        "import numpy as np"
      ],
      "execution_count": 0,
      "outputs": []
    },
    {
      "cell_type": "code",
      "metadata": {
        "id": "E5t9Pb02cJM6",
        "colab_type": "code",
        "colab": {
          "base_uri": "https://localhost:8080/",
          "height": 34
        },
        "outputId": "7c06394f-1858-4f4f-ecf1-7c0c94ac5d46"
      },
      "source": [
        "np.__version__"
      ],
      "execution_count": 4,
      "outputs": [
        {
          "output_type": "execute_result",
          "data": {
            "text/plain": [
              "'1.18.4'"
            ]
          },
          "metadata": {
            "tags": []
          },
          "execution_count": 4
        }
      ]
    },
    {
      "cell_type": "code",
      "metadata": {
        "id": "SD0HQA_WcMvq",
        "colab_type": "code",
        "colab": {}
      },
      "source": [
        "np.random.rand?"
      ],
      "execution_count": 0,
      "outputs": []
    },
    {
      "cell_type": "code",
      "metadata": {
        "id": "jXjE3rOscX69",
        "colab_type": "code",
        "colab": {
          "base_uri": "https://localhost:8080/",
          "height": 292
        },
        "outputId": "aeca38e9-1f34-4c13-edb8-6b740f4555fe"
      },
      "source": [
        "!pip install imageai"
      ],
      "execution_count": 6,
      "outputs": [
        {
          "output_type": "stream",
          "text": [
            "Collecting imageai\n",
            "\u001b[?25l  Downloading https://files.pythonhosted.org/packages/09/99/4023e191a343fb23f01ae02ac57a5ca58037c310e8d8c62f87638a3bafc7/imageai-2.1.5-py3-none-any.whl (180kB)\n",
            "\r\u001b[K     |█▉                              | 10kB 17.1MB/s eta 0:00:01\r\u001b[K     |███▋                            | 20kB 3.2MB/s eta 0:00:01\r\u001b[K     |█████▍                          | 30kB 3.8MB/s eta 0:00:01\r\u001b[K     |███████▎                        | 40kB 4.2MB/s eta 0:00:01\r\u001b[K     |█████████                       | 51kB 3.6MB/s eta 0:00:01\r\u001b[K     |██████████▉                     | 61kB 4.1MB/s eta 0:00:01\r\u001b[K     |████████████▊                   | 71kB 4.3MB/s eta 0:00:01\r\u001b[K     |██████████████▌                 | 81kB 4.6MB/s eta 0:00:01\r\u001b[K     |████████████████▎               | 92kB 4.8MB/s eta 0:00:01\r\u001b[K     |██████████████████▏             | 102kB 4.5MB/s eta 0:00:01\r\u001b[K     |████████████████████            | 112kB 4.5MB/s eta 0:00:01\r\u001b[K     |█████████████████████▊          | 122kB 4.5MB/s eta 0:00:01\r\u001b[K     |███████████████████████▋        | 133kB 4.5MB/s eta 0:00:01\r\u001b[K     |█████████████████████████▍      | 143kB 4.5MB/s eta 0:00:01\r\u001b[K     |███████████████████████████▏    | 153kB 4.5MB/s eta 0:00:01\r\u001b[K     |█████████████████████████████   | 163kB 4.5MB/s eta 0:00:01\r\u001b[K     |██████████████████████████████▉ | 174kB 4.5MB/s eta 0:00:01\r\u001b[K     |████████████████████████████████| 184kB 4.5MB/s \n",
            "\u001b[?25hRequirement already satisfied: numpy in /usr/local/lib/python3.6/dist-packages (from imageai) (1.18.4)\n",
            "Requirement already satisfied: pillow in /usr/local/lib/python3.6/dist-packages (from imageai) (7.0.0)\n",
            "Requirement already satisfied: h5py in /usr/local/lib/python3.6/dist-packages (from imageai) (2.10.0)\n",
            "Requirement already satisfied: scipy in /usr/local/lib/python3.6/dist-packages (from imageai) (1.4.1)\n",
            "Requirement already satisfied: matplotlib in /usr/local/lib/python3.6/dist-packages (from imageai) (3.2.1)\n",
            "Requirement already satisfied: six in /usr/local/lib/python3.6/dist-packages (from h5py->imageai) (1.12.0)\n",
            "Requirement already satisfied: pyparsing!=2.0.4,!=2.1.2,!=2.1.6,>=2.0.1 in /usr/local/lib/python3.6/dist-packages (from matplotlib->imageai) (2.4.7)\n",
            "Requirement already satisfied: python-dateutil>=2.1 in /usr/local/lib/python3.6/dist-packages (from matplotlib->imageai) (2.8.1)\n",
            "Requirement already satisfied: kiwisolver>=1.0.1 in /usr/local/lib/python3.6/dist-packages (from matplotlib->imageai) (1.2.0)\n",
            "Requirement already satisfied: cycler>=0.10 in /usr/local/lib/python3.6/dist-packages (from matplotlib->imageai) (0.10.0)\n",
            "Installing collected packages: imageai\n",
            "Successfully installed imageai-2.1.5\n"
          ],
          "name": "stdout"
        }
      ]
    },
    {
      "cell_type": "code",
      "metadata": {
        "id": "5khJt6M3ciGF",
        "colab_type": "code",
        "colab": {}
      },
      "source": [
        "import imageai "
      ],
      "execution_count": 0,
      "outputs": []
    },
    {
      "cell_type": "markdown",
      "metadata": {
        "id": "DGw1uLTSc0pV",
        "colab_type": "text"
      },
      "source": [
        "### Markdown"
      ]
    },
    {
      "cell_type": "markdown",
      "metadata": {
        "id": "EvpXCurjdCp4",
        "colab_type": "text"
      },
      "source": [
        "Example of markdown  \n",
        "Example of *markdown*  \n",
        "Example of **markdown**  \n",
        "Example of __markdown__  \n",
        "Example of `markdown`  \n",
        "\n",
        "```\n",
        "Example of markdown\n",
        "```\n",
        "> Python  \n",
        ">>> Code  \n",
        "\n",
        "An ordered list:  \n",
        "1. One  \n",
        "2. Two  \n",
        "3. Three  \n",
        "\n",
        "An unordered list:  \n",
        "* One  \n",
        "* Two  \n",
        "* Three \n"
      ]
    },
    {
      "cell_type": "markdown",
      "metadata": {
        "id": "VQUUUagier6I",
        "colab_type": "text"
      },
      "source": [
        "[Google](https://www.google.com/)  \n",
        "![Python](https://miro.medium.com/max/1024/1*e4bHx4q36OYZ58NNlN8nWQ.png)"
      ]
    },
    {
      "cell_type": "markdown",
      "metadata": {
        "id": "4zhMqC7FfuFq",
        "colab_type": "text"
      },
      "source": [
        "$y = x^2$  \n",
        "  \n",
        "$\\frac{1}{n} \\sum_{i=0}^{n}x_{i}$"
      ]
    },
    {
      "cell_type": "markdown",
      "metadata": {
        "id": "FDszySQ3g959",
        "colab_type": "text"
      },
      "source": [
        "$A = \\begin{pmatrix}\n",
        "a_{1,1} & a_{1,2}\\\\\n",
        "a_{2,1} & a_{2,2}\\\\\n",
        "\\end{pmatrix}$"
      ]
    },
    {
      "cell_type": "markdown",
      "metadata": {
        "id": "aUj83CVcgyDe",
        "colab_type": "text"
      },
      "source": [
        "col1 | col2 | col3  \n",
        "---|---|--- \n",
        "val1|val2|val3  \n",
        "val4|val5|val6"
      ]
    },
    {
      "cell_type": "code",
      "metadata": {
        "id": "cez81AhEf_Ft",
        "colab_type": "code",
        "colab": {}
      },
      "source": [
        ""
      ],
      "execution_count": 0,
      "outputs": []
    }
  ]
}